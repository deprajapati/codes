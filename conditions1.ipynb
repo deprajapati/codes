{
 "cells": [
  {
   "cell_type": "code",
   "execution_count": 1,
   "metadata": {},
   "outputs": [
    {
     "name": "stdout",
     "output_type": "stream",
     "text": [
      "fool\n"
     ]
    }
   ],
   "source": [
    "a=int(input(\"enter first number\"))\n",
    "b=int(input(\"enter second number\"))\n",
    "if a>=b:\n",
    "    print(\"genius\")\n",
    "else:\n",
    "    print(\"fool\")"
   ]
  },
  {
   "cell_type": "code",
   "execution_count": 7,
   "metadata": {},
   "outputs": [
    {
     "data": {
      "text/plain": [
       "7"
      ]
     },
     "execution_count": 7,
     "metadata": {},
     "output_type": "execute_result"
    }
   ],
   "source": [
    "list=[\"facebook\",\"whatsapp\",\"insta\",\"chrome\",\"camera\",\"setting\",\"calculator\"]\n",
    "len(list)"
   ]
  },
  {
   "attachments": {},
   "cell_type": "markdown",
   "metadata": {},
   "source": [
    "if else "
   ]
  },
  {
   "cell_type": "code",
   "execution_count": 15,
   "metadata": {},
   "outputs": [
    {
     "name": "stdout",
     "output_type": "stream",
     "text": [
      "Hurray 😎\n",
      "username: dev\n",
      "email: dev@gmail.com\n"
     ]
    }
   ],
   "source": [
    "username=input(\"enter your name:\")\n",
    "email=input(\"enter the email:\")\n",
    "pwd=input(\"enter the password:\")\n",
    "pwd2=input(\"confirm the password:\")\n",
    "\n",
    "if len(username)>=3 and len(username)<=15:\n",
    "    if'@' in email and email.islower() and len(email)>10:\n",
    "        if len(pwd)>6 and pwd!=username:\n",
    "            if pwd==pwd2:\n",
    "                print(\"Hurray 😎\")\n",
    "            else:\n",
    "                print(\"password do not match\")\n",
    "        else:\n",
    "            print(\"password is invalid\")\n",
    "    else:\n",
    "        print(\"email is invalid\")        \n",
    "else:\n",
    "    print(\"username is invalid\")  \n",
    "\n",
    "print(\"username:\",username)\n",
    "print(\"email:\", email)\n",
    "\n"
   ]
  },
  {
   "attachments": {},
   "cell_type": "markdown",
   "metadata": {},
   "source": [
    "if -elif"
   ]
  },
  {
   "cell_type": "code",
   "execution_count": 18,
   "metadata": {},
   "outputs": [
    {
     "name": "stdout",
     "output_type": "stream",
     "text": [
      "devansh you are outstanding\n"
     ]
    }
   ],
   "source": [
    "name=input(\"enter your name:\")\n",
    "max_marks=int(input(\"enter the marks:\"))\n",
    "if max_marks>=90:\n",
    "    print(name,\"you are outstanding\")\n",
    "elif max_marks >75:\n",
    "    print(name,\"you are intelligent\")\n",
    "elif max_marks >60:\n",
    "    print(name,\"you are good performer\")\n",
    "else:\n",
    "    print(\"poor\")"
   ]
  },
  {
   "attachments": {},
   "cell_type": "markdown",
   "metadata": {},
   "source": [
    "odd even"
   ]
  },
  {
   "cell_type": "code",
   "execution_count": 23,
   "metadata": {},
   "outputs": [
    {
     "name": "stdout",
     "output_type": "stream",
     "text": [
      "invalid number\n"
     ]
    }
   ],
   "source": [
    "x=int(input(\"enter the value:\"))\n",
    "if x<2:   \n",
    "    print(\"invalid number\")\n",
    "if x>2: \n",
    "    if x%2==0:\n",
    "        print(\"the number is even\")\n",
    "    else:\n",
    "        print(\"the number is odd\")"
   ]
  },
  {
   "attachments": {},
   "cell_type": "markdown",
   "metadata": {},
   "source": [
    "prime number"
   ]
  },
  {
   "cell_type": "code",
   "execution_count": null,
   "metadata": {},
   "outputs": [],
   "source": [
    "number"
   ]
  }
 ],
 "metadata": {
  "kernelspec": {
   "display_name": "base",
   "language": "python",
   "name": "python3"
  },
  "language_info": {
   "codemirror_mode": {
    "name": "ipython",
    "version": 3
   },
   "file_extension": ".py",
   "mimetype": "text/x-python",
   "name": "python",
   "nbconvert_exporter": "python",
   "pygments_lexer": "ipython3",
   "version": "3.10.8"
  },
  "orig_nbformat": 4,
  "vscode": {
   "interpreter": {
    "hash": "fedc3f56c56c7a0bd22d9790ede6240a5ff04828cd6de4187b314c8c8833d35c"
   }
  }
 },
 "nbformat": 4,
 "nbformat_minor": 2
}
