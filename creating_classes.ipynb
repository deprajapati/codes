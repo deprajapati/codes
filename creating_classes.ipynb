{
 "cells": [
  {
   "cell_type": "code",
   "execution_count": 24,
   "metadata": {},
   "outputs": [],
   "source": [
    "students=[\n",
    "    {'name':'John','college':'sky high','qualification':'Bachelors'},\n",
    "    {'name':'Bob','college':'sky high','qualification':'masters'},\n",
    "    {'name':'Mosh','college':'sky high','qualification':'Bachelors'}\n",
    "]"
   ]
  },
  {
   "cell_type": "code",
   "execution_count": 25,
   "metadata": {},
   "outputs": [],
   "source": [
    "class student:\n",
    "    def __init__(self, name, college, qualification):\n",
    "        self.name = name\n",
    "        self.college = college\n",
    "        self.qualification = qualification\n",
    "\n",
    "    def __repr__(self):\n",
    "        return self.name"
   ]
  },
  {
   "cell_type": "code",
   "execution_count": 26,
   "metadata": {},
   "outputs": [],
   "source": [
    "stdObjs =[\n",
    "    student('Rohan', 'sky high', 'Bachelors'),\n",
    "    student('Rahul', 'sky high', 'Masters'),\n",
    "    student('Raj', 'sky high', 'Bachelors'),\n",
    "    student('Ravi', 'sky high', 'Bachelors'),\n",
    "]"
   ]
  },
  {
   "cell_type": "code",
   "execution_count": 27,
   "metadata": {},
   "outputs": [
    {
     "data": {
      "text/plain": [
       "[Rohan, Rahul, Raj, Ravi]"
      ]
     },
     "execution_count": 27,
     "metadata": {},
     "output_type": "execute_result"
    }
   ],
   "source": [
    "stdObjs"
   ]
  },
  {
   "cell_type": "code",
   "execution_count": 28,
   "metadata": {},
   "outputs": [],
   "source": [
    "class Triangle:\n",
    "    def __init__(self, b=0,h=0):\n",
    "        self.base = b\n",
    "        self.height = h\n",
    "\n",
    "    def area(self):\n",
    "        return self.base * self.height / 2\n",
    "\n",
    "    def __repr__(self):\n",
    "        return f'triangle({self.area()})'    "
   ]
  },
  {
   "cell_type": "code",
   "execution_count": 32,
   "metadata": {},
   "outputs": [
    {
     "data": {
      "text/plain": [
       "[triangle(30.0), triangle(25.0), triangle(60.0), triangle(75.0)]"
      ]
     },
     "execution_count": 32,
     "metadata": {},
     "output_type": "execute_result"
    }
   ],
   "source": [
    "data = [Triangle(12,5),Triangle(10,5),Triangle(8,15), Triangle(6,25)]\n",
    "data"
   ]
  },
  {
   "cell_type": "code",
   "execution_count": 34,
   "metadata": {},
   "outputs": [],
   "source": [
    "import os\n",
    "class Reader:\n",
    "    def __init__(self, path):\n",
    "        if  not os.path.exists(path):\n",
    "            raise Exception('File does not exists')\n",
    "        self.path = path\n",
    "        self.content = self.read()\n",
    "\n",
    "    def read(self):\n",
    "        with open(self.path, 'r') as f:\n",
    "            return f.read()\n",
    "        \n",
    "    def count_words(self):\n",
    "        return len(self.content.split())\n",
    "    \n",
    "    def count_chars(self):\n",
    "        return len(self.content)\n",
    "    \n",
    "    def __str__(self):\n",
    "        return self.content"
   ]
  },
  {
   "cell_type": "code",
   "execution_count": 36,
   "metadata": {},
   "outputs": [],
   "source": [
    "r1 = Reader('nested.py')"
   ]
  },
  {
   "cell_type": "code",
   "execution_count": 39,
   "metadata": {},
   "outputs": [
    {
     "name": "stdout",
     "output_type": "stream",
     "text": [
      "from turtle import*\n",
      "\n",
      "speed('fastest')\n",
      "pencolor ('red')\n",
      "fillcolor('yellow')\n",
      "for i in range(8):\n",
      "    fd(100)\n",
      "    for i in range(8):\n",
      "        fd(50)\n",
      "        begin_fill()\n",
      "        for i in range(8):\n",
      "            fd(25)\n",
      "            lt(35)\n",
      "        end_fill()\n",
      "        lt(35)\n",
      "    rt(60)\n",
      "\n",
      "\n",
      "hideturtle()\n",
      "mainloop()\n"
     ]
    }
   ],
   "source": [
    "print(r1.content)"
   ]
  },
  {
   "cell_type": "code",
   "execution_count": 43,
   "metadata": {},
   "outputs": [
    {
     "name": "stdout",
     "output_type": "stream",
     "text": [
      "29\n",
      "300\n"
     ]
    }
   ],
   "source": [
    "print(r1.count_words())\n",
    "print(r1.count_chars())"
   ]
  }
 ],
 "metadata": {
  "kernelspec": {
   "display_name": "base",
   "language": "python",
   "name": "python3"
  },
  "language_info": {
   "codemirror_mode": {
    "name": "ipython",
    "version": 3
   },
   "file_extension": ".py",
   "mimetype": "text/x-python",
   "name": "python",
   "nbconvert_exporter": "python",
   "pygments_lexer": "ipython3",
   "version": "3.10.8"
  },
  "orig_nbformat": 4
 },
 "nbformat": 4,
 "nbformat_minor": 2
}
