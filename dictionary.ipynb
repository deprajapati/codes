{
 "cells": [
  {
   "attachments": {},
   "cell_type": "markdown",
   "metadata": {},
   "source": [
    "# dictionary\n",
    "- ordered data structure \n",
    "- unindexed, mutable\n",
    "- key : value pair\n",
    "- key is immutable , unique\n",
    "- value is mutable and can be duplicated and heterogeneous\n",
    "- dictionary can be created using dict() or {}\n",
    "- ---- can be nested"
   ]
  },
  {
   "cell_type": "code",
   "execution_count": 2,
   "metadata": {},
   "outputs": [],
   "source": [
    "details_dict = {\n",
    "    'Author' : 'Brandon Sanderson',\n",
    "    'Title'  : 'The Lost Metal',\n",
    "    'Part'   : 'Fantasy',\n",
    "    'Release Date' : '2022',\n",
    "    'Price'  :  '$19.00'\n",
    "}"
   ]
  },
  {
   "cell_type": "code",
   "execution_count": 3,
   "metadata": {},
   "outputs": [
    {
     "name": "stdout",
     "output_type": "stream",
     "text": [
      "{'Author': 'Brandon Sanderson', 'Title': 'The Lost Metal', 'Part': 'Fantasy', 'Release Date': '2022', 'Price': '$19.00'}\n",
      "<class 'dict'>\n"
     ]
    }
   ],
   "source": [
    "print(details_dict)\n",
    "print(type(details_dict))"
   ]
  },
  {
   "cell_type": "code",
   "execution_count": 4,
   "metadata": {},
   "outputs": [
    {
     "name": "stdout",
     "output_type": "stream",
     "text": [
      "{'Author': 'Brandon Sanderson', 'Title': 'The Lost Metal', 'Part': 'Fantasy', 'Release Date': '2022', 'Price': '$19.00', 'pages': '508'}\n"
     ]
    }
   ],
   "source": [
    "details_dict['pages']= '508'\n",
    "print(details_dict)"
   ]
  },
  {
   "cell_type": "code",
   "execution_count": 5,
   "metadata": {},
   "outputs": [
    {
     "name": "stdout",
     "output_type": "stream",
     "text": [
      "Brandon Sanderson\n",
      "The Lost Metal\n",
      "Fantasy\n",
      "2022\n",
      "$19.00\n",
      "508\n"
     ]
    }
   ],
   "source": [
    "for k in details_dict:\n",
    "    print(details_dict[k])"
   ]
  },
  {
   "cell_type": "code",
   "execution_count": 6,
   "metadata": {},
   "outputs": [
    {
     "name": "stdout",
     "output_type": "stream",
     "text": [
      "Brandon Sanderson   Author\n",
      "The Lost Metal      Title\n",
      "Fantasy             Part\n",
      "2022                Release Date\n",
      "$19.00              Price\n",
      "508                 pages\n"
     ]
    }
   ],
   "source": [
    "for v, k in details_dict.items():\n",
    "    print(f'{k:20}{v}')"
   ]
  },
  {
   "cell_type": "code",
   "execution_count": 7,
   "metadata": {},
   "outputs": [
    {
     "data": {
      "text/plain": [
       "['Author', 'Title', 'Part', 'Release Date', 'Price', 'pages']"
      ]
     },
     "execution_count": 7,
     "metadata": {},
     "output_type": "execute_result"
    }
   ],
   "source": [
    "list(details_dict.keys())"
   ]
  },
  {
   "cell_type": "code",
   "execution_count": 8,
   "metadata": {},
   "outputs": [
    {
     "data": {
      "text/plain": [
       "['Brandon Sanderson', 'The Lost Metal', 'Fantasy', '2022', '$19.00', '508']"
      ]
     },
     "execution_count": 8,
     "metadata": {},
     "output_type": "execute_result"
    }
   ],
   "source": [
    "list(details_dict.values())"
   ]
  },
  {
   "cell_type": "code",
   "execution_count": 10,
   "metadata": {},
   "outputs": [
    {
     "data": {
      "text/plain": [
       "'508'"
      ]
     },
     "execution_count": 10,
     "metadata": {},
     "output_type": "execute_result"
    }
   ],
   "source": [
    "details_dict.get(\"pages\")"
   ]
  }
 ],
 "metadata": {
  "kernelspec": {
   "display_name": "base",
   "language": "python",
   "name": "python3"
  },
  "language_info": {
   "codemirror_mode": {
    "name": "ipython",
    "version": 3
   },
   "file_extension": ".py",
   "mimetype": "text/x-python",
   "name": "python",
   "nbconvert_exporter": "python",
   "pygments_lexer": "ipython3",
   "version": "3.10.8"
  },
  "orig_nbformat": 4
 },
 "nbformat": 4,
 "nbformat_minor": 2
}
