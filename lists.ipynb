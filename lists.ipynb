{
 "cells": [
  {
   "cell_type": "code",
   "execution_count": 1,
   "metadata": {},
   "outputs": [],
   "source": [
    "a = [] #empty list\n",
    "b = [1,2,3,4,5,6,7]\n",
    "c = ['apple','banana','orange']\n",
    "d = [[1,2,3],[4,5,6],[7,8,9]]\n",
    "e = ['apple',20,'banana',34 ,55,'orange']"
   ]
  },
  {
   "cell_type": "code",
   "execution_count": 2,
   "metadata": {},
   "outputs": [
    {
     "name": "stdout",
     "output_type": "stream",
     "text": [
      "[]\n",
      "[1, 2, 3, 4, 5, 6, 7]\n",
      "['apple', 'banana', 'orange']\n"
     ]
    }
   ],
   "source": [
    "print(a,b,c,sep='\\n')"
   ]
  },
  {
   "cell_type": "code",
   "execution_count": 3,
   "metadata": {},
   "outputs": [],
   "source": [
    "name= input(\"enter the name:\")\n",
    "a.append(name)"
   ]
  },
  {
   "cell_type": "code",
   "execution_count": 4,
   "metadata": {},
   "outputs": [
    {
     "name": "stdout",
     "output_type": "stream",
     "text": [
      "['abcd']\n"
     ]
    }
   ],
   "source": [
    "print(a)"
   ]
  },
  {
   "cell_type": "code",
   "execution_count": 5,
   "metadata": {},
   "outputs": [
    {
     "name": "stdout",
     "output_type": "stream",
     "text": [
      "first5= ['rockstar', 'zid', 'wanted', 'krish', 'war', 'pathan']\n",
      "last5= ['dangal', 'tiger jinda hai', 'dilwale', 'padmavati', 'sultan']\n",
      "['rockstar', 'wanted', 'war', 'dabangg', 'kick', 'dangal', 'dilwale', 'sultan']\n"
     ]
    }
   ],
   "source": [
    "movies =[\"rockstar\",\"zid\",\"wanted\",\"krish\",\"war\",\n",
    "         \"pathan\",\"dabangg\",\"bahubali\",\"kick\",\"kgf\",\"dangal\",\n",
    "         \"tiger jinda hai\",\"dilwale\",\"padmavati\",\"sultan\"]\n",
    "print(\"first5=\", movies[:6])\n",
    "print(\"last5=\", movies[-5:])\n",
    "print(movies[::2])"
   ]
  },
  {
   "cell_type": "code",
   "execution_count": 6,
   "metadata": {},
   "outputs": [],
   "source": [
    "for i in range(3):\n",
    "    name = input(\"enetr the movie name\")\n",
    "    movies.append(name)"
   ]
  },
  {
   "cell_type": "code",
   "execution_count": 13,
   "metadata": {},
   "outputs": [
    {
     "name": "stdout",
     "output_type": "stream",
     "text": [
      "['rockstar', 'zid', 'wanted', 'krish', 'war', 'pathan', 'dabangg', 'bahubali', 'kick', 'kgf', 'dangal', 'tiger jinda hai', 'dilwale', 'padmavati', 'sultan', 'abcd2']\n"
     ]
    }
   ],
   "source": [
    "print(movies)"
   ]
  },
  {
   "cell_type": "code",
   "execution_count": 8,
   "metadata": {},
   "outputs": [],
   "source": [
    "movies[-3]=\"abcd2\""
   ]
  },
  {
   "cell_type": "code",
   "execution_count": 12,
   "metadata": {},
   "outputs": [],
   "source": [
    "movies.remove(\"sss\")"
   ]
  },
  {
   "cell_type": "code",
   "execution_count": 14,
   "metadata": {},
   "outputs": [
    {
     "data": {
      "text/plain": [
       "'abcd2'"
      ]
     },
     "execution_count": 14,
     "metadata": {},
     "output_type": "execute_result"
    }
   ],
   "source": [
    "movies.pop(-1)"
   ]
  },
  {
   "cell_type": "code",
   "execution_count": 15,
   "metadata": {},
   "outputs": [
    {
     "name": "stdout",
     "output_type": "stream",
     "text": [
      "['rockstar', 'zid', 'krish', 'war', 'pathan', 'dabangg', 'bahubali', 'kick', 'kgf', 'dangal', 'tiger jinda hai', 'dilwale', 'padmavati', 'sultan']\n"
     ]
    }
   ],
   "source": [
    "movie_removed = movies.pop(2)\n",
    "print(movies)"
   ]
  },
  {
   "cell_type": "code",
   "execution_count": 17,
   "metadata": {},
   "outputs": [
    {
     "name": "stdout",
     "output_type": "stream",
     "text": [
      "[1, 2, 3, 4, 5, 6]\n"
     ]
    }
   ],
   "source": [
    "x =[1,2,3]\n",
    "y =[4,5,6]\n",
    "z =(x+y)\n",
    "print(z)"
   ]
  },
  {
   "cell_type": "code",
   "execution_count": 18,
   "metadata": {},
   "outputs": [
    {
     "name": "stdout",
     "output_type": "stream",
     "text": [
      "[1, 2, 3, 4, 5, 6]\n"
     ]
    }
   ],
   "source": [
    "x.extend(y)\n",
    "print(x)"
   ]
  },
  {
   "cell_type": "code",
   "execution_count": 20,
   "metadata": {},
   "outputs": [
    {
     "name": "stdout",
     "output_type": "stream",
     "text": [
      "['bahubali', 'dabangg', 'dangal', 'dilwale', 'kgf', 'kick', 'krish', 'padmavati', 'pathan', 'rockstar', 'sultan', 'tiger jinda hai', 'war', 'zid']\n"
     ]
    }
   ],
   "source": [
    "movies.sort()\n",
    "print(movies)"
   ]
  },
  {
   "cell_type": "code",
   "execution_count": 25,
   "metadata": {},
   "outputs": [
    {
     "data": {
      "text/plain": [
       "1"
      ]
     },
     "execution_count": 25,
     "metadata": {},
     "output_type": "execute_result"
    }
   ],
   "source": [
    "movies.count(\"krish\")"
   ]
  }
 ],
 "metadata": {
  "kernelspec": {
   "display_name": "base",
   "language": "python",
   "name": "python3"
  },
  "language_info": {
   "codemirror_mode": {
    "name": "ipython",
    "version": 3
   },
   "file_extension": ".py",
   "mimetype": "text/x-python",
   "name": "python",
   "nbconvert_exporter": "python",
   "pygments_lexer": "ipython3",
   "version": "3.10.8"
  },
  "orig_nbformat": 4,
  "vscode": {
   "interpreter": {
    "hash": "fedc3f56c56c7a0bd22d9790ede6240a5ff04828cd6de4187b314c8c8833d35c"
   }
  }
 },
 "nbformat": 4,
 "nbformat_minor": 2
}
