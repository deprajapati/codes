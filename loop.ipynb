{
 "cells": [
  {
   "attachments": {},
   "cell_type": "markdown",
   "metadata": {},
   "source": [
    "more loop-\n",
    "enumerate()"
   ]
  },
  {
   "cell_type": "code",
   "execution_count": 1,
   "metadata": {},
   "outputs": [
    {
     "name": "stdout",
     "output_type": "stream",
     "text": [
      "rose\n",
      "jasmine\n",
      "lotus\n",
      "lily\n"
     ]
    }
   ],
   "source": [
    "flowers=[\"rose\",\"jasmine\",\"lotus\",\"lily\"]\n",
    "for flower in flowers:\n",
    "    print(flower)"
   ]
  },
  {
   "cell_type": "code",
   "execution_count": 2,
   "metadata": {},
   "outputs": [
    {
     "name": "stdout",
     "output_type": "stream",
     "text": [
      "0 rose\n",
      "1 jasmine\n",
      "2 lotus\n",
      "3 lily\n"
     ]
    }
   ],
   "source": [
    "for i,flower in enumerate(flowers):\n",
    "    print(i,flower)"
   ]
  },
  {
   "attachments": {},
   "cell_type": "markdown",
   "metadata": {},
   "source": [
    "zip()"
   ]
  },
  {
   "cell_type": "code",
   "execution_count": 3,
   "metadata": {},
   "outputs": [
    {
     "name": "stdout",
     "output_type": "stream",
     "text": [
      "(1+3)**2 = 16\n",
      "(2+5)**2 = 49\n",
      "(3+6)**2 = 81\n",
      "(4+7)**2 = 121\n",
      "(5+8)**2 = 169\n",
      "(6+2)**2 = 64\n"
     ]
    }
   ],
   "source": [
    "x=[1,2,3,4,5,6]\n",
    "y=[3,5,6,7,8,2]\n",
    "for i,j in zip(x,y):\n",
    "    print(f'({i}+{j})**2 = {(i+j)**2}')"
   ]
  },
  {
   "attachments": {},
   "cell_type": "markdown",
   "metadata": {},
   "source": [
    "break and continue"
   ]
  },
  {
   "cell_type": "code",
   "execution_count": 7,
   "metadata": {},
   "outputs": [
    {
     "name": "stdout",
     "output_type": "stream",
     "text": [
      "2\n",
      "3\n",
      "4\n",
      "6\n",
      "6\n",
      "1\n",
      "2\n",
      "3\n",
      "4\n",
      "5\n",
      "6\n",
      "7\n",
      "7\n",
      "3\n",
      "2\n",
      "1\n",
      "1\n"
     ]
    }
   ],
   "source": [
    "a=[2,3,4,0,0,0,6,6,1,0,2,3,4,0,0,5,6,7,7,3,0,0,0,2,1,1]\n",
    "for i in a:\n",
    "    if i==0: continue\n",
    "    print(i)"
   ]
  },
  {
   "cell_type": "code",
   "execution_count": 8,
   "metadata": {},
   "outputs": [
    {
     "name": "stdout",
     "output_type": "stream",
     "text": [
      "sam\n",
      "sara\n",
      "alex\n"
     ]
    }
   ],
   "source": [
    "names=['sam','sara','alex','','alexa','john','','jelly','jack']\n",
    "for name in names:\n",
    "    if len(name)==0: break\n",
    "    print(name)"
   ]
  },
  {
   "cell_type": "code",
   "execution_count": 13,
   "metadata": {},
   "outputs": [
    {
     "name": "stdout",
     "output_type": "stream",
     "text": [
      "0 sam\n",
      "1 sara\n",
      "2 alex\n",
      "error: empty name found\n"
     ]
    }
   ],
   "source": [
    "names=['sam','sara','alex','','alexa','john','','jelly','jack']\n",
    "for i,name in enumerate(names):\n",
    "    if len(name)==0:\n",
    "        print('error: empty name found')\n",
    "        break\n",
    "    print(i,name)"
   ]
  }
 ],
 "metadata": {
  "kernelspec": {
   "display_name": "base",
   "language": "python",
   "name": "python3"
  },
  "language_info": {
   "codemirror_mode": {
    "name": "ipython",
    "version": 3
   },
   "file_extension": ".py",
   "mimetype": "text/x-python",
   "name": "python",
   "nbconvert_exporter": "python",
   "pygments_lexer": "ipython3",
   "version": "3.10.8"
  },
  "orig_nbformat": 4,
  "vscode": {
   "interpreter": {
    "hash": "fedc3f56c56c7a0bd22d9790ede6240a5ff04828cd6de4187b314c8c8833d35c"
   }
  }
 },
 "nbformat": 4,
 "nbformat_minor": 2
}
