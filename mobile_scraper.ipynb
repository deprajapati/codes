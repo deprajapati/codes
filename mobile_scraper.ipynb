{
 "cells": [
  {
   "cell_type": "code",
   "execution_count": 12,
   "metadata": {},
   "outputs": [],
   "source": [
    "from dputils.scrape import Scraper, Tag"
   ]
  },
  {
   "cell_type": "code",
   "execution_count": 13,
   "metadata": {},
   "outputs": [
    {
     "name": "stdout",
     "output_type": "stream",
     "text": [
      "Error: 503\n"
     ]
    },
    {
     "ename": "AttributeError",
     "evalue": "'NoneType' object has no attribute 'title'",
     "output_type": "error",
     "traceback": [
      "\u001b[1;31m---------------------------------------------------------------------------\u001b[0m",
      "\u001b[1;31mAttributeError\u001b[0m                            Traceback (most recent call last)",
      "Cell \u001b[1;32mIn[13], line 4\u001b[0m\n\u001b[0;32m      2\u001b[0m page \u001b[39m=\u001b[39m \u001b[39m1\u001b[39m\n\u001b[0;32m      3\u001b[0m webpage \u001b[39m=\u001b[39m Scraper(\u001b[39mf\u001b[39m\u001b[39m'\u001b[39m\u001b[39mhttp://www.amazon.in/s?k=\u001b[39m\u001b[39m{\u001b[39;00mquery\u001b[39m}\u001b[39;00m\u001b[39m&page=\u001b[39m\u001b[39m{\u001b[39;00mpage\u001b[39m}\u001b[39;00m\u001b[39m'\u001b[39m)\n\u001b[1;32m----> 4\u001b[0m \u001b[39mprint\u001b[39m(webpage\u001b[39m.\u001b[39;49msoup\u001b[39m.\u001b[39;49mtitle)\n",
      "\u001b[1;31mAttributeError\u001b[0m: 'NoneType' object has no attribute 'title'"
     ]
    }
   ],
   "source": [
    "\n",
    "query = 'phone'\n",
    "page = 1\n",
    "webpage = Scraper(f'http://www.amazon.in/s?k={query}&page={page}')\n",
    "print(webpage.soup.title)"
   ]
  },
  {
   "cell_type": "code",
   "execution_count": null,
   "metadata": {},
   "outputs": [],
   "source": [
    "target = Tag('div', cls='s-main-slot s-result-list s-search-results sg-row')\n",
    "items = Tag('div', cls='s-result-item')\n",
    "title = Tag('h2', cls='a-sizemini a-spacing-none a-color-base s-line-clamp-2')\n",
    "price = Tag('span',cls='a-price-whole')\n"
   ]
  },
  {
   "cell_type": "code",
   "execution_count": null,
   "metadata": {},
   "outputs": [
    {
     "data": {
      "text/plain": [
       "[{'title': None, 'price': None},\n",
       " {'title': None, 'price': None},\n",
       " {'title': None, 'price': '64,900'},\n",
       " {'title': None, 'price': '61,999'},\n",
       " {'title': None, 'price': '1,299'},\n",
       " {'title': None, 'price': '5,999'},\n",
       " {'title': None, 'price': '15,740'},\n",
       " {'title': None, 'price': '34,999'},\n",
       " {'title': None, 'price': None},\n",
       " {'title': None, 'price': '7,499'},\n",
       " {'title': None, 'price': '5,899'},\n",
       " {'title': None, 'price': '5,899'},\n",
       " {'title': None, 'price': '19,999'},\n",
       " {'title': None, 'price': '8,799'},\n",
       " {'title': None, 'price': '1,73,099'},\n",
       " {'title': None, 'price': '1,89,900'},\n",
       " {'title': None, 'price': '13,499'},\n",
       " {'title': None, 'price': None},\n",
       " {'title': None, 'price': '6,499'},\n",
       " {'title': None, 'price': '18,999'},\n",
       " {'title': None, 'price': '4,499'},\n",
       " {'title': None, 'price': '7,499'},\n",
       " {'title': None, 'price': '11,490'},\n",
       " {'title': None, 'price': '8,999'},\n",
       " {'title': None, 'price': '10,499'},\n",
       " {'title': None, 'price': '49,900'},\n",
       " {'title': None, 'price': '94,900'},\n",
       " {'title': None, 'price': '548.'},\n",
       " {'title': None, 'price': None},\n",
       " {'title': None, 'price': '548.'},\n",
       " {'title': None, 'price': '1,075'},\n",
       " {'title': None, 'price': '35,601'},\n",
       " {'title': None, 'price': '5,899'},\n",
       " {'title': None, 'price': '6,499'},\n",
       " {'title': None, 'price': '7,499'},\n",
       " {'title': None, 'price': '8,799'},\n",
       " {'title': None, 'price': None},\n",
       " {'title': None, 'price': None},\n",
       " {'title': None, 'price': None}]"
      ]
     },
     "execution_count": 22,
     "metadata": {},
     "output_type": "execute_result"
    }
   ],
   "source": [
    "webpage.get_all(target, items,title=title, price=price)"
   ]
  },
  {
   "cell_type": "code",
   "execution_count": null,
   "metadata": {},
   "outputs": [],
   "source": [
    "def scrape_product(query, page=1):\n",
    "    webpage = Scraper(f'http://www.amazon.in/s?k={query}&page={page}')\n",
    "    print(webpage.soup.title)\n",
    "    target = Tag('div', cls='s-main-slot s-result-list s-search-results sg-row')\n",
    "    items = Tag('div', cls='s-result-item')\n",
    "    title = Tag('h2')\n",
    "    price = Tag('span',cls='a-price-whole')\n",
    "    return webpage.get_all(target, items,title=title, price=price)\n"
   ]
  },
  {
   "cell_type": "code",
   "execution_count": null,
   "metadata": {},
   "outputs": [
    {
     "ename": "NameError",
     "evalue": "name 'scrape_product' is not defined",
     "output_type": "error",
     "traceback": [
      "\u001b[1;31m---------------------------------------------------------------------------\u001b[0m",
      "\u001b[1;31mNameError\u001b[0m                                 Traceback (most recent call last)",
      "Cell \u001b[1;32mIn[9], line 4\u001b[0m\n\u001b[0;32m      2\u001b[0m query\u001b[39m=\u001b[39m\u001b[39m'\u001b[39m\u001b[39mlaptop\u001b[39m\u001b[39m'\u001b[39m\n\u001b[0;32m      3\u001b[0m \u001b[39mfor\u001b[39;00m i \u001b[39min\u001b[39;00m \u001b[39mrange\u001b[39m(\u001b[39m1\u001b[39m,\u001b[39m15\u001b[39m):\n\u001b[1;32m----> 4\u001b[0m     all_data\u001b[39m.\u001b[39mextend(scrape_product(query,i))\n\u001b[0;32m      5\u001b[0m     \u001b[39mprint\u001b[39m(\u001b[39mf\u001b[39m\u001b[39m'\u001b[39m\u001b[39mPage \u001b[39m\u001b[39m{\u001b[39;00mi\u001b[39m}\u001b[39;00m\u001b[39m done\u001b[39m\u001b[39m'\u001b[39m)\n",
      "\u001b[1;31mNameError\u001b[0m: name 'scrape_product' is not defined"
     ]
    }
   ],
   "source": [
    "all_data = []\n",
    "query='laptop'\n",
    "for i in range(1,15):\n",
    "    all_data.extend(scrape_product(query,i))\n",
    "    print(f'Page {i} done')"
   ]
  },
  {
   "cell_type": "code",
   "execution_count": null,
   "metadata": {},
   "outputs": [
    {
     "ename": "NameError",
     "evalue": "name 'all_data' is not defined",
     "output_type": "error",
     "traceback": [
      "\u001b[1;31m---------------------------------------------------------------------------\u001b[0m",
      "\u001b[1;31mNameError\u001b[0m                                 Traceback (most recent call last)",
      "Cell \u001b[1;32mIn[6], line 2\u001b[0m\n\u001b[0;32m      1\u001b[0m \u001b[39mimport\u001b[39;00m \u001b[39mpandas\u001b[39;00m \u001b[39mas\u001b[39;00m \u001b[39mpd\u001b[39;00m \n\u001b[1;32m----> 2\u001b[0m df \u001b[39m=\u001b[39m pd\u001b[39m.\u001b[39mDataFrame(all_data)\u001b[39m.\u001b[39mdropna(how\u001b[39m=\u001b[39m\u001b[39m'\u001b[39m\u001b[39mall\u001b[39m\u001b[39m'\u001b[39m)\n\u001b[0;32m      3\u001b[0m df\u001b[39m.\u001b[39mto_csv(\u001b[39m'\u001b[39m\u001b[39mlaptops.csv\u001b[39m\u001b[39m'\u001b[39m, index\u001b[39m=\u001b[39m\u001b[39mFalse\u001b[39;00m)\n",
      "\u001b[1;31mNameError\u001b[0m: name 'all_data' is not defined"
     ]
    }
   ],
   "source": [
    "import pandas as pd \n",
    "df = pd.DataFrame(all_data).dropna(how='all')\n",
    "df.to_csv('laptops.csv', index=False)"
   ]
  },
  {
   "cell_type": "code",
   "execution_count": null,
   "metadata": {},
   "outputs": [],
   "source": []
  }
 ],
 "metadata": {
  "kernelspec": {
   "display_name": "base",
   "language": "python",
   "name": "python3"
  },
  "language_info": {
   "codemirror_mode": {
    "name": "ipython",
    "version": 3
   },
   "file_extension": ".py",
   "mimetype": "text/x-python",
   "name": "python",
   "nbconvert_exporter": "python",
   "pygments_lexer": "ipython3",
   "version": "3.10.8"
  },
  "orig_nbformat": 4
 },
 "nbformat": 4,
 "nbformat_minor": 2
}
