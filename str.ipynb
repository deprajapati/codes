{
 "cells": [
  {
   "cell_type": "code",
   "execution_count": 42,
   "metadata": {},
   "outputs": [
    {
     "name": "stdout",
     "output_type": "stream",
     "text": [
      "st =  digipodium\n",
      "st[0] =  d\n",
      "st[1] =  i\n",
      "st[-1] =  m\n"
     ]
    }
   ],
   "source": [
    "st = \"digipodium\"\n",
    "print(\"st = \", st)\n",
    "\n",
    "print(\"st[0] = \", st[0])\n",
    "\n",
    "print(\"st[1] = \", st[1])\n",
    "\n",
    "print(\"st[-1] = \", st[-1])\n"
   ]
  },
  {
   "attachments": {},
   "cell_type": "markdown",
   "metadata": {},
   "source": [
    "Slicing\n",
    "\n",
    "\n",
    "s[start : end : step]\n",
    "s[: end]\n",
    "s[start :]"
   ]
  },
  {
   "cell_type": "code",
   "execution_count": 43,
   "metadata": {},
   "outputs": [
    {
     "data": {
      "text/plain": [
       "26"
      ]
     },
     "execution_count": 43,
     "metadata": {},
     "output_type": "execute_result"
    }
   ],
   "source": [
    "alphabets=\"abcdefghijklmnopqrstuvwxyz\"\n",
    "len(alphabets)\n"
   ]
  },
  {
   "cell_type": "code",
   "execution_count": 44,
   "metadata": {},
   "outputs": [
    {
     "data": {
      "text/plain": [
       "'ghijklmnopqrst'"
      ]
     },
     "execution_count": 44,
     "metadata": {},
     "output_type": "execute_result"
    }
   ],
   "source": [
    "alphabets[6:-6]"
   ]
  },
  {
   "cell_type": "code",
   "execution_count": 46,
   "metadata": {},
   "outputs": [
    {
     "name": "stdout",
     "output_type": "stream",
     "text": [
      "acegikmoqsuwy\n"
     ]
    }
   ],
   "source": [
    "every_even_index = alphabets[ ::2]\n",
    "print(every_even_index)"
   ]
  },
  {
   "cell_type": "code",
   "execution_count": 48,
   "metadata": {},
   "outputs": [
    {
     "name": "stdout",
     "output_type": "stream",
     "text": [
      "bdfhjlnprtvxz\n"
     ]
    }
   ],
   "source": [
    "every_odd_index = alphabets[ 1::2]\n",
    "print(every_odd_index)"
   ]
  },
  {
   "cell_type": "code",
   "execution_count": 78,
   "metadata": {},
   "outputs": [
    {
     "name": "stdout",
     "output_type": "stream",
     "text": [
      "DVNHPAAAI\n",
      "EAS RJPT\n"
     ]
    }
   ],
   "source": [
    "name = 'DEVANSH PRAJAPATI'\n",
    "name_even = name[ ::2]\n",
    "name_odd = name[1::2]\n",
    "print(name_even, name_odd, sep='\\n')"
   ]
  },
  {
   "cell_type": "code",
   "execution_count": 73,
   "metadata": {},
   "outputs": [
    {
     "name": "stdout",
     "output_type": "stream",
     "text": [
      "65\n",
      "67\n",
      "66\n",
      "129401\n"
     ]
    }
   ],
   "source": [
    "print(ord('A'))\n",
    "print(ord('C'))\n",
    "print(ord('B'))\n",
    "print(ord('🥹'))\n"
   ]
  },
  {
   "cell_type": "code",
   "execution_count": 76,
   "metadata": {},
   "outputs": [
    {
     "name": "stdout",
     "output_type": "stream",
     "text": [
      "hihihi\n"
     ]
    }
   ],
   "source": [
    "word = \"hi\"\n",
    "print(word*3)"
   ]
  },
  {
   "cell_type": "code",
   "execution_count": 98,
   "metadata": {},
   "outputs": [
    {
     "name": "stdout",
     "output_type": "stream",
     "text": [
      "                   *                    \n",
      "                *  *  *                 \n",
      "             *  *  *  *  *              \n",
      "          *  *  *  *  *  *  *           \n",
      "       *  *  *  *  *  *  *  *  *        \n",
      "    *  *  *  *  *  *  *  *  *  *  *     \n",
      " *  *  *  *  *  *  *  *  *  *  *  *  *  \n"
     ]
    }
   ],
   "source": [
    "for i in range(1,15,2):\n",
    "    print((i * ' * ').center(40))\n",
    "    "
   ]
  }
 ],
 "metadata": {
  "kernelspec": {
   "display_name": "base",
   "language": "python",
   "name": "python3"
  },
  "language_info": {
   "codemirror_mode": {
    "name": "ipython",
    "version": 3
   },
   "file_extension": ".py",
   "mimetype": "text/x-python",
   "name": "python",
   "nbconvert_exporter": "python",
   "pygments_lexer": "ipython3",
   "version": "3.10.8"
  },
  "orig_nbformat": 4,
  "vscode": {
   "interpreter": {
    "hash": "fedc3f56c56c7a0bd22d9790ede6240a5ff04828cd6de4187b314c8c8833d35c"
   }
  }
 },
 "nbformat": 4,
 "nbformat_minor": 2
}
